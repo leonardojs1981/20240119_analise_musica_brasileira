{
 "cells": [
  {
   "cell_type": "code",
   "execution_count": 25,
   "id": "0da737a0",
   "metadata": {},
   "outputs": [],
   "source": [
    "import requests\n",
    "from bs4 import BeautifulSoup\n",
    "import html5lib\n",
    "import pandas as pd\n",
    "from unidecode import unidecode\n",
    "import random\n",
    "import langid\n",
    "import pickle"
   ]
  },
  {
   "cell_type": "code",
   "execution_count": 26,
   "id": "a534176c",
   "metadata": {},
   "outputs": [],
   "source": [
    "def lista_rimas(palavra):\n",
    "    url = 'https://www.dicionarioinformal.com.br/rimas/'+palavra+'/'\n",
    "    page = requests.get(url)\n",
    "    html_doc = page.text\n",
    "    soup = BeautifulSoup(html_doc, 'html5lib')\n",
    "\n",
    "    lista_rimas = []\n",
    "    if len(soup.find_all(class_='ul_simple link_cinza'))>0:\n",
    "        for i in soup.find_all(class_='ul_simple link_cinza'):\n",
    "            for j in i.find_all('a'):\n",
    "                lista_rimas.append(unidecode(j.text).lower().replace('-', ' '))\n",
    "    return lista_rimas"
   ]
  },
  {
   "cell_type": "code",
   "execution_count": 27,
   "id": "d3db65da",
   "metadata": {},
   "outputs": [],
   "source": [
    "with open('lista_tokens.pkl', 'rb') as handle:\n",
    "    lista_tokens = pickle.load(handle)"
   ]
  },
  {
   "cell_type": "code",
   "execution_count": 38,
   "id": "e4f00f9f",
   "metadata": {},
   "outputs": [
    {
     "name": "stdout",
     "output_type": "stream",
     "text": [
      "35500 vencidas\n",
      "36000 menosspanspan\n",
      "36500 blaugrana\n",
      "37000 desvanecer\n",
      "37500 oportuna\n",
      "38000 experimenta\n",
      "38500 marcaram\n",
      "39000 stevonnie\n",
      "39500 chapelao\n",
      "40000 extremamente\n",
      "40500 reanimarspanspan\n",
      "41000 intimada\n",
      "41500 tolerar\n",
      "42000 consultado\n",
      "42500 rave\n",
      "43000 acerola\n",
      "43500 magoou\n",
      "44000 chamines\n",
      "44500 estadio\n"
     ]
    }
   ],
   "source": [
    "#dict_rimas = {}\n",
    "\n",
    "count=35000\n",
    "for palavra in lista_tokens[35000:]:\n",
    "    dict_rimas[palavra] = lista_rimas(palavra)\n",
    "    count+=1\n",
    "    if count % 500 == 0:\n",
    "        print(count, palavra)"
   ]
  },
  {
   "cell_type": "code",
   "execution_count": 39,
   "id": "1292d658",
   "metadata": {},
   "outputs": [],
   "source": [
    "with open('dict_rimas.pkl', 'wb') as f:\n",
    "    pickle.dump(dict_rimas, f)"
   ]
  },
  {
   "cell_type": "code",
   "execution_count": 41,
   "id": "d6eb9bb3",
   "metadata": {},
   "outputs": [
    {
     "data": {
      "text/plain": [
       "44757"
      ]
     },
     "execution_count": 41,
     "metadata": {},
     "output_type": "execute_result"
    }
   ],
   "source": [
    "len(dict_rimas.keys())"
   ]
  },
  {
   "cell_type": "code",
   "execution_count": null,
   "id": "f110edf3",
   "metadata": {},
   "outputs": [],
   "source": []
  }
 ],
 "metadata": {
  "kernelspec": {
   "display_name": "Python 3 (ipykernel)",
   "language": "python",
   "name": "python3"
  },
  "language_info": {
   "codemirror_mode": {
    "name": "ipython",
    "version": 3
   },
   "file_extension": ".py",
   "mimetype": "text/x-python",
   "name": "python",
   "nbconvert_exporter": "python",
   "pygments_lexer": "ipython3",
   "version": "3.10.9"
  }
 },
 "nbformat": 4,
 "nbformat_minor": 5
}
